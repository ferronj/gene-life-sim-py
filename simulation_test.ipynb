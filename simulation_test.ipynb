{
 "cells": [
  {
   "cell_type": "code",
   "execution_count": 1,
   "metadata": {},
   "outputs": [
    {
     "name": "stdout",
     "output_type": "stream",
     "text": [
      "pygame 2.4.0 (SDL 2.26.4, Python 3.9.0)\n",
      "Hello from the pygame community. https://www.pygame.org/contribute.html\n"
     ]
    }
   ],
   "source": [
    "import pandas as pd\n",
    "import json\n",
    "\n",
    "from life_sim_py.cell.cell import Cell\n",
    "from life_sim_py.cell.cell import cell_id_match\n",
    "from life_sim_py.simulation.simulation_functions import (\n",
    "    init_population,\n",
    "    init_environment_object_list\n",
    ")\n",
    "from life_sim_py.utils.util_classes import ComplexEncoder\n",
    "\n",
    "import life_sim_py.utils.util_functions as util\n",
    "\n",
    "from scipy.spatial import KDTree"
   ]
  },
  {
   "cell_type": "code",
   "execution_count": 38,
   "metadata": {},
   "outputs": [
    {
     "data": {
      "text/plain": [
       "'energy'"
      ]
     },
     "execution_count": 38,
     "metadata": {},
     "output_type": "execute_result"
    }
   ],
   "source": [
    "test = 'DETECT_ENERGY'\n",
    "test.split('_')[1].lower()"
   ]
  },
  {
   "cell_type": "code",
   "execution_count": 25,
   "metadata": {},
   "outputs": [
    {
     "name": "stdout",
     "output_type": "stream",
     "text": [
      "0_0: index: 67, position [558 300]\n",
      "0_0: index: 401, position [560 301]\n",
      "(5.385164807134504, 67)\n"
     ]
    }
   ],
   "source": [
    "screen_dimensions = (700, 500)\n",
    "distance = 10\n",
    "population = init_population(pop_size=1, screen_dimensions=screen_dimensions)\n",
    "\n",
    "object_list = init_environment_object_list(1000, screen_dimensions)\n",
    "object_tree = KDTree(object_list)\n",
    "\n",
    "detect = 0\n",
    "for cell in population:\n",
    "    ball_pnt_results = object_tree.query_ball_point(cell.state['position'], r=distance)\n",
    "    for r in ball_pnt_results:\n",
    "        object_point = object_list[r]\n",
    "        print(f'{cell.id}: index: {r}, position {object_point}')\n",
    "\n",
    "    query_results = object_tree.query(cell.state['position'], distance_upper_bound=distance)\n",
    "    print(query_results)"
   ]
  },
  {
   "cell_type": "code",
   "execution_count": 35,
   "metadata": {},
   "outputs": [
    {
     "name": "stdout",
     "output_type": "stream",
     "text": [
      "88\n"
     ]
    }
   ],
   "source": [
    "detect = 0\n",
    "for cell in population:\n",
    "    for object in object_list:\n",
    "        \n",
    "        vector = util.get_vector(\n",
    "                position_1=cell.state['position'],\n",
    "                position_2=object)\n",
    "            \n",
    "        d = util.get_magnitude(vector=vector)\n",
    "        if d <= 10:\n",
    "            detect += 1\n",
    "            #print(f'{cell.id}: {object_point}')\n",
    "\n",
    "print(detect)\n",
    "    \n"
   ]
  },
  {
   "cell_type": "code",
   "execution_count": null,
   "metadata": {},
   "outputs": [],
   "source": []
  },
  {
   "cell_type": "code",
   "execution_count": 15,
   "metadata": {},
   "outputs": [
    {
     "name": "stdout",
     "output_type": "stream",
     "text": [
      "{'id': '2_0', 'state': {'position': array([39,  1]), 'position_vector': array([ 0.50699795, -0.4364557 ]), 'mass': 10, 'potential': 0, 'entropy': 0, 'genome_length': 34, 'gene': []}, 'detected': {'energy': [], 'block': [], 'signal': [], 'waste': [], 'gene': [], 'cell': []}, 'genome': <life_sim_py.genome.genome.Genome object at 0x00000274169D0820>, 'network': <life_sim_py.genome.network.Network object at 0x00000274165AEC10>}\n",
      "{'id': '2_0', 'state': {'position': array([39,  1]), 'position_vector': array([ 0.50699795, -0.4364557 ]), 'mass': 15, 'potential': 0, 'entropy': 0, 'genome_length': 34, 'gene': []}, 'detected': {'energy': [], 'block': [], 'signal': [], 'waste': [], 'gene': [], 'cell': []}, 'genome': <life_sim_py.genome.genome.Genome object at 0x00000274169D0820>, 'network': <life_sim_py.genome.network.Network object at 0x00000274165AEC10>}\n",
      "{'id': '2_0', 'state': {'position': array([39,  1]), 'position_vector': array([ 0.50699795, -0.4364557 ]), 'mass': 15, 'potential': 0, 'entropy': 0, 'genome_length': 34, 'gene': []}, 'detected': {'energy': [], 'block': [], 'signal': [], 'waste': [], 'gene': [], 'cell': []}, 'genome': <life_sim_py.genome.genome.Genome object at 0x00000274169D0820>, 'network': <life_sim_py.genome.network.Network object at 0x00000274165AEC10>}\n"
     ]
    }
   ],
   "source": [
    "population = init_population(size=5, screen_dimensions=(100, 100))\n",
    "cell_id = population.cells_list[2].id\n",
    "\n",
    "environment = {\n",
    "        'cells': {\n",
    "            'list': population.cells_list\n",
    "        }\n",
    "    }\n",
    "\n",
    "print(population.cells_list[2].reprJSON())\n",
    "\n",
    "cell = cell_id_match(cell_id, environment)\n",
    "\n",
    "cell.state['mass'] = 15\n",
    "print(cell.reprJSON())\n",
    "print(population.cells_list[2].reprJSON())\n"
   ]
  },
  {
   "cell_type": "code",
   "execution_count": null,
   "metadata": {},
   "outputs": [],
   "source": [
    "cell == environment['cells']['list'][2]"
   ]
  }
 ],
 "metadata": {
  "kernelspec": {
   "display_name": "venv",
   "language": "python",
   "name": "python3"
  },
  "language_info": {
   "codemirror_mode": {
    "name": "ipython",
    "version": 3
   },
   "file_extension": ".py",
   "mimetype": "text/x-python",
   "name": "python",
   "nbconvert_exporter": "python",
   "pygments_lexer": "ipython3",
   "version": "3.9.0"
  },
  "orig_nbformat": 4
 },
 "nbformat": 4,
 "nbformat_minor": 2
}
