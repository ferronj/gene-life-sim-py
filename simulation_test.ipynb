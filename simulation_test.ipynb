{
 "cells": [
  {
   "cell_type": "code",
   "execution_count": null,
   "metadata": {},
   "outputs": [],
   "source": [
    "import pandas as pd\n",
    "import numpy as np\n",
    "import json\n",
    "\n",
    "from life_sim_py.cells.cell import Cell\n",
    "from life_sim_py.cells.cell import cell_id_match\n",
    "from life_sim_py.cells.sensors_actions import (SENSORS, ACTIONS)\n",
    "from life_sim_py.cells.genome import (Genome, Network)\n",
    "from life_sim_py.sim_functions import (\n",
    "    init_population,\n",
    "    init_environment_object_list\n",
    ")\n",
    "\n",
    "from life_sim_py.utils.ComplexEncoder import ComplexEncoder\n",
    "\n",
    "import life_sim_py.utils.util_functions as util\n",
    "\n",
    "\n",
    "from scipy.spatial import KDTree\n",
    "\n",
    "import matplotlib.pyplot as plt\n",
    "import seaborn as sns\n",
    "\n",
    "import networkx as nx"
   ]
  },
  {
   "cell_type": "code",
   "execution_count": null,
   "metadata": {},
   "outputs": [],
   "source": [
    "population = init_population(pop_size=1, screen_dimensions=(100, 100), genome_length=10)\n",
    "cell = population[0]\n",
    "\n",
    "print(cell.reprJSON()['state'])\n",
    "\n",
    "input_results = []\n",
    "output_results = []\n",
    "# siumulate 100 times and plot?\n",
    "for sim in range(1000):\n",
    "    sensor_input = np.random.rand(len(SENSORS))\n",
    "    input_results.append(sensor_input)\n",
    "\n",
    "    network_output = cell.network.feed_forward(sensor_input)\n",
    "    output_results.append(network_output)\n",
    "\n",
    "input_results = np.array(input_results)\n",
    "output_results = np.array(output_results)\n",
    "\n",
    "sns.histplot(output_results, bins=50)\n",
    "\n",
    "sns.scatterplot()"
   ]
  },
  {
   "cell_type": "code",
   "execution_count": null,
   "metadata": {},
   "outputs": [],
   "source": [
    "x = np.linspace(-5, 5, 100)\n",
    "y = np.tanh(x)\n",
    "plt.plot(x, y)"
   ]
  },
  {
   "cell_type": "code",
   "execution_count": null,
   "metadata": {},
   "outputs": [],
   "source": [
    "connections = cell.network.nodes\n",
    "\n",
    "# Initialize a directed graph\n",
    "G = nx.DiGraph()\n",
    "\n",
    "# Add edges to the graph\n",
    "for conn in connections:\n",
    "    input_node = f\"{conn['input_type']}:{conn['input_id']}\"\n",
    "    output_node = f\"{conn['output_type']}:{conn['output_id']}\"\n",
    "    weight = conn['weight']\n",
    "    G.add_edge(input_node, output_node, weight=weight)\n",
    "\n",
    "# Extract edge weights for labeling\n",
    "edge_labels = nx.get_edge_attributes(G, 'weight')\n",
    "\n",
    "# Draw the graph\n",
    "pos = nx.spring_layout(G, seed=42)  # Positioning of nodes\n",
    "plt.figure(figsize=(12, 8))\n",
    "\n",
    "# Draw nodes and edges\n",
    "nx.draw(\n",
    "    G, pos, with_labels=True, node_size=3000, node_color='skyblue',\n",
    "    font_size=10, font_weight='bold', edge_color='gray'\n",
    ")\n",
    "\n",
    "# Draw edge labels (weights)\n",
    "nx.draw_networkx_edge_labels(\n",
    "    G, pos, edge_labels={k: f\"{v:.2f}\" for k, v in edge_labels.items()},\n",
    "    font_color='red'\n",
    ")\n",
    "\n",
    "# Show the plot\n",
    "plt.title(\"NEAT Neural Network Graph\", fontsize=16)\n",
    "plt.show()"
   ]
  }
 ],
 "metadata": {
  "kernelspec": {
   "display_name": "venv",
   "language": "python",
   "name": "python3"
  },
  "language_info": {
   "codemirror_mode": {
    "name": "ipython",
    "version": 3
   },
   "file_extension": ".py",
   "mimetype": "text/x-python",
   "name": "python",
   "nbconvert_exporter": "python",
   "pygments_lexer": "ipython3",
   "version": "3.9.0"
  },
  "orig_nbformat": 4
 },
 "nbformat": 4,
 "nbformat_minor": 2
}
