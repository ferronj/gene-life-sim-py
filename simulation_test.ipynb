{
 "cells": [
  {
   "cell_type": "code",
   "execution_count": 1,
   "metadata": {},
   "outputs": [
    {
     "name": "stdout",
     "output_type": "stream",
     "text": [
      "pygame 2.4.0 (SDL 2.26.4, Python 3.9.0)\n",
      "Hello from the pygame community. https://www.pygame.org/contribute.html\n"
     ]
    }
   ],
   "source": [
    "import pandas as pd\n",
    "import json\n",
    "\n",
    "from life_sim_py.cell.cell import Cell\n",
    "from life_sim_py.cell.cell import cell_id_match\n",
    "from life_sim_py.population.population import Population\n",
    "from life_sim_py.simulation.simulation_functions import init_population\n",
    "from life_sim_py.utils.util_classes import ComplexEncoder"
   ]
  },
  {
   "cell_type": "code",
   "execution_count": null,
   "metadata": {},
   "outputs": [],
   "source": []
  },
  {
   "cell_type": "code",
   "execution_count": 19,
   "metadata": {},
   "outputs": [
    {
     "name": "stdout",
     "output_type": "stream",
     "text": [
      "{'id': '2_0', 'state': {'position': array([88, 63]), 'position_vector': array([-0.58380142, -0.04009598]), 'mass': 10, 'potential': 0, 'entropy': 0, 'genome_length': 24, 'gene': []}, 'detected': {'energy': [], 'block': [], 'signal': [], 'waste': [], 'gene': [], 'cell': []}, 'genome': <life_sim_py.genome.genome.Genome object at 0x0000022182950460>, 'network': <life_sim_py.genome.network.Network object at 0x0000022182950BE0>}\n",
      "{'id': '2_0', 'state': {'position': array([88, 63]), 'position_vector': array([-0.58380142, -0.04009598]), 'mass': 15, 'potential': 0, 'entropy': 0, 'genome_length': 24, 'gene': []}, 'detected': {'energy': [], 'block': [], 'signal': [], 'waste': [], 'gene': [], 'cell': []}, 'genome': <life_sim_py.genome.genome.Genome object at 0x0000022182950460>, 'network': <life_sim_py.genome.network.Network object at 0x0000022182950BE0>}\n",
      "{'id': '2_0', 'state': {'position': array([88, 63]), 'position_vector': array([-0.58380142, -0.04009598]), 'mass': 15, 'potential': 0, 'entropy': 0, 'genome_length': 24, 'gene': []}, 'detected': {'energy': [], 'block': [], 'signal': [], 'waste': [], 'gene': [], 'cell': []}, 'genome': <life_sim_py.genome.genome.Genome object at 0x0000022182950460>, 'network': <life_sim_py.genome.network.Network object at 0x0000022182950BE0>}\n"
     ]
    }
   ],
   "source": [
    "population = init_population(size=5, screen_dimensions=(100, 100))\n",
    "cell_id = population.cells_list[2].id\n",
    "\n",
    "environment = {\n",
    "        'cells': {\n",
    "            'list': population.cells_list\n",
    "        }\n",
    "    }\n",
    "\n",
    "print(population.cells_list[2].reprJSON())\n",
    "\n",
    "cell = cell_id_match(cell_id, environment)\n",
    "\n",
    "cell.state['mass'] = 15\n",
    "print(cell.reprJSON())\n",
    "print(population.cells_list[2].reprJSON())\n"
   ]
  },
  {
   "cell_type": "code",
   "execution_count": 15,
   "metadata": {},
   "outputs": [
    {
     "data": {
      "text/plain": [
       "True"
      ]
     },
     "execution_count": 15,
     "metadata": {},
     "output_type": "execute_result"
    }
   ],
   "source": [
    "cell == environment['cells']['list'][2]"
   ]
  }
 ],
 "metadata": {
  "kernelspec": {
   "display_name": "venv",
   "language": "python",
   "name": "python3"
  },
  "language_info": {
   "codemirror_mode": {
    "name": "ipython",
    "version": 3
   },
   "file_extension": ".py",
   "mimetype": "text/x-python",
   "name": "python",
   "nbconvert_exporter": "python",
   "pygments_lexer": "ipython3",
   "version": "3.9.0"
  },
  "orig_nbformat": 4
 },
 "nbformat": 4,
 "nbformat_minor": 2
}
